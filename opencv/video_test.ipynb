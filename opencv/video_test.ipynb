{
 "cells": [
  {
   "cell_type": "code",
   "execution_count": 1,
   "metadata": {},
   "outputs": [
    {
     "name": "stdout",
     "output_type": "stream",
     "text": [
      "3.6.6\n",
      "3.4.3 /home/minzhang/anaconda2/envs/ml/lib/python3.6/site-packages/cv2/cv2.cpython-36m-x86_64-linux-gnu.so\n",
      "29.30199562012276\n",
      "True\n",
      "complete\n"
     ]
    }
   ],
   "source": [
    "import cv2\n",
    "import numpy as np\n",
    "import platform\n",
    "print (platform.python_version())\n",
    "# print(cv2.getBuildInformation())\n",
    "print(cv2.__version__,cv2.__file__)\n",
    "videoCapture = cv2.VideoCapture('/home/minzhang/pic/video/VID_20181027_011813.avi')\n",
    "fps = videoCapture.get(cv2.CAP_PROP_FPS)\n",
    "print(fps)\n",
    "size = (int(videoCapture.get(cv2.CAP_PROP_FRAME_WIDTH)),int(videoCapture.get(cv2.CAP_PROP_FRAME_HEIGHT)))\n",
    "videoWriter = cv2.VideoWriter('/home/minzhang/pic/video/test.avi',cv2.VideoWriter_fourcc('I','4','2','0'),fps,size)\n",
    "success,frame = videoCapture.read()\n",
    "# print('ss')\n",
    "print(success)\n",
    "while success:\n",
    "#     print('ss')\n",
    "    videoWriter.write(frame)\n",
    "    success, frame = videoCapture.read()\n",
    "print('complete')\n",
    "\n",
    "# import cv2\n",
    "# cap = cv2.VideoCapture(0)\n",
    "# if False == cap.isOpened():\n",
    "#     print('open video failed')\n",
    "# else:\n",
    "#     print('open video successded')\n"
   ]
  },
  {
   "cell_type": "code",
   "execution_count": null,
   "metadata": {},
   "outputs": [],
   "source": []
  },
  {
   "cell_type": "code",
   "execution_count": null,
   "metadata": {},
   "outputs": [],
   "source": []
  }
 ],
 "metadata": {
  "kernelspec": {
   "display_name": "ml",
   "language": "python",
   "name": "ml"
  },
  "language_info": {
   "codemirror_mode": {
    "name": "ipython",
    "version": 3
   },
   "file_extension": ".py",
   "mimetype": "text/x-python",
   "name": "python",
   "nbconvert_exporter": "python",
   "pygments_lexer": "ipython3",
   "version": "3.6.6"
  }
 },
 "nbformat": 4,
 "nbformat_minor": 2
}
